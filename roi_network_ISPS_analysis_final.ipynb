{
 "cells": [
  {
   "cell_type": "markdown",
   "metadata": {},
   "source": [
    "## purpose\n",
    "1. load in the timecourse of each ROI\n",
    "2. calculate the mean activity for each ROI for each given event\n",
    "3. use the multivariate pattern of each network (each ROI contributes one value) to determine whether the network carries information about the event during encoding and retrieval"
   ]
  },
  {
   "cell_type": "markdown",
   "metadata": {},
   "source": [
    "## load in libraries"
   ]
  },
  {
   "cell_type": "code",
   "execution_count": 37,
   "metadata": {},
   "outputs": [
    {
     "data": {
      "application/javascript": [
       "IPython.notebook.set_autosave_interval(5000)"
      ]
     },
     "metadata": {},
     "output_type": "display_data"
    },
    {
     "name": "stdout",
     "output_type": "stream",
     "text": [
      "Autosaving every 5 seconds\n"
     ]
    }
   ],
   "source": [
    "import warnings\n",
    "import sys \n",
    "if not sys.warnoptions:\n",
    "    warnings.simplefilter(\"ignore\")\n",
    "import os \n",
    "\n",
    "import numpy as np\n",
    "from scipy import stats\n",
    "import scipy.spatial.distance as sp_distance\n",
    "from sklearn.svm import NuSVC\n",
    "import nibabel as nib\n",
    "from nilearn.input_data import NiftiMasker,  MultiNiftiMasker\n",
    "from nilearn.masking import intersect_masks\n",
    "from sklearn import preprocessing\n",
    "import seaborn as sns \n",
    "from brainiak.isfc import isc\n",
    "from brainiak.fcma.util import compute_correlation\n",
    "import brainiak.funcalign.srm\n",
    "from brainiak import image, io\n",
    "import pandas as pd\n",
    "import matplotlib.pyplot as plt\n",
    "from pandas import *\n",
    "from nilearn.masking import apply_mask\n",
    "from nilearn.image import resample_to_img\n",
    "from nipype.interfaces import afni\n",
    "from nipy.labs.mask import intersect_masks\n",
    "from scipy.stats import zscore, norm\n",
    "from sklearn import linear_model\n",
    "from isc_reorder import isc_reorder\n",
    "from isc_recall import isc_recall\n",
    "import pickle\n",
    "\n",
    "from statsmodels.stats.anova import anova_lm\n",
    "from statsmodels.formula.api import ols\n",
    "import statsmodels.api as sm\n",
    "import statsmodels.formula.api as smf\n",
    "\n",
    "import multiprocessing as mp\n",
    "import time\n",
    "\n",
    "import matplotlib\n",
    "%autosave 5\n",
    "%matplotlib inline"
   ]
  },
  {
   "cell_type": "code",
   "execution_count": 2,
   "metadata": {},
   "outputs": [],
   "source": [
    "data_dir = '/Users/alexbarnett/Documents/TTTvsPMAT/fMRI/fmriprep_v20.1.1/fmriprep/'\n",
    "analysis_dir = '/Users/alexbarnett/Documents/TTTvsPMAT/fMRI/SRM_2020/'"
   ]
  },
  {
   "cell_type": "code",
   "execution_count": 3,
   "metadata": {},
   "outputs": [],
   "source": [
    "#set variables\n",
    "subj_list = pd.read_excel(analysis_dir+'subjlist.xlsx')\n",
    "movie_list = ['barmaid','bluestreets']\n",
    "subj_recall=pd.read_excel(analysis_dir+'subj_recall_sessions_run.xlsx')\n",
    "event_boundaries = pd.read_excel(analysis_dir+'fmri_recall_event_boundaries_all.xlsx')\n",
    "roi_list = pd.read_excel(analysis_dir+'roilist.xlsx')\n",
    "\n",
    "n_sub = 24\n",
    "\n",
    "#sub_motion_outliers_recall=np.load(analysis_dir+'sub_motion_outliers_recall.npy')\n",
    "#subj_recall['motion_percent'] = sub_motion_outliers_recall"
   ]
  },
  {
   "cell_type": "code",
   "execution_count": 4,
   "metadata": {},
   "outputs": [],
   "source": [
    "## set net labels\n",
    "net_label = ['VIS','SOM-MOT','SAL1','DAN1','SAL2','DAN2','LANG','FPN','AUD','ATN','MTN','PMN','MPN','antHC','postHC']\n",
    "\n",
    "glasser_nodes=pd.read_excel(analysis_dir+'within_subj_fc/hc_glasser_nodes.xlsx')"
   ]
  },
  {
   "cell_type": "code",
   "execution_count": 5,
   "metadata": {},
   "outputs": [],
   "source": [
    "# Run linear regression to deconvolve\n",
    "def deconv(V, design):\n",
    "    regr = linear_model.LinearRegression(fit_intercept=False)\n",
    "    regr.fit(design, V.T)\n",
    "    return regr.coef_"
   ]
  },
  {
   "cell_type": "code",
   "execution_count": 6,
   "metadata": {},
   "outputs": [],
   "source": [
    "# load in subject designs\n",
    "\n",
    "with open(analysis_dir+'subject_design_label_bluestreets.data', 'rb') as filehandle:\n",
    "        # read the data as binary data stream\n",
    "        subject_design_label_bluestreets = pickle.load(filehandle)\n",
    "with open(analysis_dir+'subject_design_label_barmaid.data', 'rb') as filehandle:\n",
    "        # read the data as binary data stream\n",
    "        subject_design_label_barmaid = pickle.load(filehandle)"
   ]
  },
  {
   "cell_type": "markdown",
   "metadata": {},
   "source": [
    "## calculate mean ROI activity"
   ]
  },
  {
   "cell_type": "markdown",
   "metadata": {},
   "source": [
    "### only run once, then load up the saved next time"
   ]
  },
  {
   "cell_type": "code",
   "execution_count": 3184,
   "metadata": {},
   "outputs": [],
   "source": [
    "# load in the data preprocessed for RSA\n",
    "# have to go through each roi, append that ROI to an array for each subject, and then append that array to the sample array\n",
    "n_rois = 362\n",
    "n_TRs = 840\n",
    "##barmaid\n",
    "k=0\n",
    "# cycle through subject\n",
    "barmaid_movie_isc_data = np.zeros([n_sub, n_rois, n_TRs])\n",
    "for sub in range(n_sub):\n",
    "    sub_isc_data = []\n",
    "    # go through all the glasser rois (hippocampal rois will be done after)\n",
    "    for roi in range(len(glasser_nodes)-4):\n",
    "        epi = np.load(analysis_dir+'glasser_ROIs/epi_'+roi_list.iloc[roi]['Unnamed: 2']+'_'+subj_list['subj_id'][sub]+ movie_list[k]+'_viewing.npy')\n",
    "        sub_isc_data.append(np.mean(epi,1))\n",
    "    sub_isc_data = np.array(sub_isc_data)\n",
    "    barmaid_movie_isc_data[sub,:358,:np.shape(sub_isc_data)[1]] = sub_isc_data\n",
    "\n",
    "##bluestreets\n",
    "k=1\n",
    "# cycle through subject\n",
    "bluestreets_movie_isc_data = np.zeros([n_sub, n_rois, n_TRs])\n",
    "for sub in range(n_sub):\n",
    "    sub_isc_data = []\n",
    "    # go through all the glasser rois (hippocampal rois will be done after)\n",
    "    for roi in range(len(glasser_nodes)-4):\n",
    "        epi = np.load(analysis_dir+'glasser_ROIs/epi_'+roi_list.iloc[roi]['Unnamed: 2']+'_'+subj_list['subj_id'][sub]+ movie_list[k]+'_viewing.npy')\n",
    "        sub_isc_data.append(np.mean(epi,1))\n",
    "    sub_isc_data = np.array(sub_isc_data)\n",
    "    bluestreets_movie_isc_data[sub,:358,:np.shape(sub_isc_data)[1]] = sub_isc_data"
   ]
  },
  {
   "cell_type": "code",
   "execution_count": 3439,
   "metadata": {},
   "outputs": [],
   "source": [
    "np.save('barmaid_movie_isc_data.npy',barmaid_movie_isc_data)"
   ]
  },
  {
   "cell_type": "code",
   "execution_count": 3440,
   "metadata": {},
   "outputs": [],
   "source": [
    "np.save('bluestreets_movie_isc_data.npy',bluestreets_movie_isc_data)"
   ]
  },
  {
   "cell_type": "code",
   "execution_count": 9,
   "metadata": {},
   "outputs": [],
   "source": [
    "barmaid_movie_isc_data = np.load('barmaid_movie_isc_data.npy')\n",
    "bluestreets_movie_isc_data = np.load('bluestreets_movie_isc_data.npy')"
   ]
  },
  {
   "cell_type": "markdown",
   "metadata": {},
   "source": [
    "## viewing spatial ISC"
   ]
  },
  {
   "cell_type": "markdown",
   "metadata": {},
   "source": [
    "### barmaid"
   ]
  },
  {
   "cell_type": "code",
   "execution_count": 19,
   "metadata": {},
   "outputs": [],
   "source": [
    "# initialize arrays\n",
    "isc_barmaid_sub_event_z=[]\n",
    "isc_iterations=5000\n",
    "net_event_ISC_barmaid= []\n",
    "net_event_ISC_bluestreets= []\n",
    "isc_null_barmaid=[]\n",
    "isc_null_bluestreets=[]\n",
    "\n",
    "\n",
    "\n",
    "design_barmaid = np.load(analysis_dir+movie_list[0]+'_design.npy')\n",
    "design_bluestreets = np.load(analysis_dir+movie_list[1]+'_design.npy')\n",
    "\n",
    "# cycle through networks\n",
    "for net in range(0,13):\n",
    "    \n",
    "    # get movie data and calculate average ROI activation patterns\n",
    "    \n",
    "    ## barmaid \n",
    "    n, TR, n_events = np.shape(design_barmaid)\n",
    "    index = glasser_nodes['community_sublabels']==net+1\n",
    "    network_data = barmaid_movie_isc_data[:,index,:]\n",
    "\n",
    "    network_data = np.transpose(network_data,[2,1,0])\n",
    "\n",
    "    # organize data in proper order\n",
    "    movie_xform_data = []\n",
    "\n",
    "    for sub in range(n_sub):\n",
    "        movie_xform_data.append(network_data[:, :, sub])\n",
    "\n",
    "    #normalize data\n",
    "    # Iterate through the subjects\n",
    "    for sub in range(n_sub):    \n",
    "        movie_xform_data[sub] = stats.zscore(movie_xform_data[sub], axis=0, ddof=1)\n",
    "        movie_xform_data[sub] = np.nan_to_num(movie_xform_data[sub])\n",
    "    roi_num = np.shape(movie_xform_data)[2]\n",
    "\n",
    "    #calculate event level voxel patterns\n",
    "    beta_barmaid = np.zeros([roi_num,n_events,n_sub])\n",
    "    for sub in range(n_sub):\n",
    "        beta_pre = np.zeros([roi_num,n_events,n_sub])\n",
    "        beta_pre = deconv(np.transpose(movie_xform_data,[2,1,0])[:, :,sub], design_barmaid[0][:np.shape(movie_xform_data)[1],:])\n",
    "        beta_pre[abs(beta_pre)<0.00000000000001]=0 ## python has a problem with rounding things and thus some elements need to be put to 0\n",
    "        beta_barmaid[:,:,sub] = zscore(beta_pre[:, :n_events],axis=0, ddof=1)\n",
    "        \n",
    "    ## bluestreets \n",
    "    n, TR, n_events = np.shape(design_bluestreets)\n",
    "    network_data = bluestreets_movie_isc_data[:,index,:]\n",
    "\n",
    "    network_data = np.transpose(network_data,[2,1,0])\n",
    "\n",
    "    # organize data in proper order\n",
    "    movie_xform_data = []\n",
    "\n",
    "    for sub in range(n_sub):\n",
    "        movie_xform_data.append(network_data[:, :, sub])\n",
    "\n",
    "    #normalize data\n",
    "    # Iterate through the subjects\n",
    "    for sub in range(n_sub):    \n",
    "        movie_xform_data[sub] = stats.zscore(movie_xform_data[sub], axis=0, ddof=1)\n",
    "        movie_xform_data[sub] = np.nan_to_num(movie_xform_data[sub])\n",
    "    roi_num = np.shape(movie_xform_data)[2]\n",
    "\n",
    "    #calculate event level voxel patterns\n",
    "    beta_bluestreets = np.zeros([roi_num,n_events,n_sub])\n",
    "    for sub in range(n_sub):\n",
    "        beta_pre = np.zeros([roi_num,n_events,n_sub])\n",
    "        beta_pre = deconv(np.transpose(movie_xform_data,[2,1,0])[:, :,sub], design_bluestreets[0][:np.shape(movie_xform_data)[1],:])\n",
    "        beta_pre[abs(beta_pre)<0.00000000000001]=0 ## python has a problem with rounding things and thus some elements need to be put to 0\n",
    "        beta_bluestreets[:,:,sub] = zscore(beta_pre[:, :n_events],axis=0, ddof=1)\n",
    "\n",
    "        \n",
    "        \n",
    "    # calculate event level isc for correct labels\n",
    "    ## barmaid\n",
    "    spatial_event_isc_reconstructed = isc(np.transpose(beta_barmaid,[1,0,2])[1:,:,:], collapse_subj=False)\n",
    "    spatial_subject_isc = np.nanmean(spatial_event_isc_reconstructed,0)\n",
    "    net_event_ISC_barmaid.append(spatial_subject_isc)\n",
    "    \n",
    "    ## bluestreets\n",
    "    spatial_event_isc_reconstructed = isc(np.transpose(beta_bluestreets,[1,0,2])[1:,:,:], collapse_subj=False)\n",
    "    spatial_subject_isc = np.nanmean(spatial_event_isc_reconstructed,0)\n",
    "    net_event_ISC_bluestreets.append(spatial_subject_isc)\n",
    "\n",
    "    \n",
    "    # calculate event level isc for scrambled labels\n",
    "    \n",
    "    spatial_subject_isc_null_barmaid = []\n",
    "    spatial_subject_isc_null_bluestreets = []\n",
    "    for iteration in range(isc_iterations):\n",
    "        #barmaid\n",
    "        spatial_event_isc_reconstructed_null = isc_reorder(np.transpose(beta_barmaid,[1,0,2])[1:,:,:], collapse_subj=False)\n",
    "        spatial_subject_isc_null_barmaid.append(np.nanmean(spatial_event_isc_reconstructed_null,0))\n",
    "        \n",
    "        #bluestreets\n",
    "        spatial_event_isc_reconstructed_null = isc_reorder(np.transpose(beta_bluestreets,[1,0,2])[1:,:,:], collapse_subj=False)\n",
    "        spatial_subject_isc_null_bluestreets.append(np.nanmean(spatial_event_isc_reconstructed_null,0))\n",
    "        \n",
    "        \n",
    "\n",
    "\n",
    "    isc_null_barmaid.append(spatial_subject_isc_null_barmaid)\n",
    "    isc_null_bluestreets.append(spatial_subject_isc_null_bluestreets)\n",
    "    \n"
   ]
  },
  {
   "cell_type": "markdown",
   "metadata": {},
   "source": [
    "## viewing ISC"
   ]
  },
  {
   "cell_type": "markdown",
   "metadata": {},
   "source": [
    "### z-score from null"
   ]
  },
  {
   "cell_type": "code",
   "execution_count": 14,
   "metadata": {},
   "outputs": [],
   "source": [
    "# ATN"
   ]
  },
  {
   "cell_type": "code",
   "execution_count": 15,
   "metadata": {},
   "outputs": [
    {
     "data": {
      "text/plain": [
       "11.707831777355043"
      ]
     },
     "execution_count": 15,
     "metadata": {},
     "output_type": "execute_result"
    }
   ],
   "source": [
    "# z-score for barmaid\n",
    "(np.mean(net_event_ISC_barmaid[9]) - np.mean(np.nanmean(isc_null_barmaid[9],axis = 1)))/np.std(np.nanmean(isc_null_barmaid[9],axis = 1))"
   ]
  },
  {
   "cell_type": "code",
   "execution_count": 20,
   "metadata": {},
   "outputs": [
    {
     "data": {
      "text/plain": [
       "12.023761430859052"
      ]
     },
     "execution_count": 20,
     "metadata": {},
     "output_type": "execute_result"
    }
   ],
   "source": [
    "# Z-score for bluestreet\n",
    "(np.mean(net_event_ISC_bluestreets[9]) - np.mean(np.nanmean(isc_null_bluestreets[9],axis = 1)))/np.std(np.nanmean(isc_null_bluestreets[9],axis = 1))"
   ]
  },
  {
   "cell_type": "code",
   "execution_count": null,
   "metadata": {},
   "outputs": [],
   "source": [
    "# z-score combined\n",
    "(np.mean([net_event_ISC_barmaid[9],net_event_ISC_bluestreets[9]]) - np.concatenate([np.mean(np.nanmean(isc_null_barmaid[9],axis = 1)),np.mean(np.nanmean(isc_null_barmaid[9],axis = 1))]))/np.std(np.nanmean(isc_null_barmaid[9],axis = 1))"
   ]
  },
  {
   "cell_type": "code",
   "execution_count": 21,
   "metadata": {},
   "outputs": [],
   "source": [
    "#MTN"
   ]
  },
  {
   "cell_type": "code",
   "execution_count": 22,
   "metadata": {},
   "outputs": [
    {
     "data": {
      "text/plain": [
       "16.093636572887497"
      ]
     },
     "execution_count": 22,
     "metadata": {},
     "output_type": "execute_result"
    }
   ],
   "source": [
    "# z-score for barmaid\n",
    "(np.mean(net_event_ISC_barmaid[10]) - np.mean(np.nanmean(isc_null_barmaid[10],axis = 1)))/np.std(np.nanmean(isc_null_barmaid[10],axis = 1))"
   ]
  },
  {
   "cell_type": "code",
   "execution_count": 23,
   "metadata": {},
   "outputs": [
    {
     "data": {
      "text/plain": [
       "17.58484731220832"
      ]
     },
     "execution_count": 23,
     "metadata": {},
     "output_type": "execute_result"
    }
   ],
   "source": [
    "# Z-score for bluestreet\n",
    "(np.mean(net_event_ISC_bluestreets[10]) - np.mean(np.nanmean(isc_null_bluestreets[10],axis = 1)))/np.std(np.nanmean(isc_null_bluestreets[10],axis = 1))"
   ]
  },
  {
   "cell_type": "code",
   "execution_count": 24,
   "metadata": {},
   "outputs": [],
   "source": [
    "# PMN"
   ]
  },
  {
   "cell_type": "code",
   "execution_count": 25,
   "metadata": {},
   "outputs": [
    {
     "data": {
      "text/plain": [
       "13.85073271184999"
      ]
     },
     "execution_count": 25,
     "metadata": {},
     "output_type": "execute_result"
    }
   ],
   "source": [
    "# z-score for barmaid\n",
    "(np.mean(net_event_ISC_barmaid[11]) - np.mean(np.nanmean(isc_null_barmaid[11],axis = 1)))/np.std(np.nanmean(isc_null_barmaid[11],axis = 1))"
   ]
  },
  {
   "cell_type": "code",
   "execution_count": 26,
   "metadata": {},
   "outputs": [
    {
     "data": {
      "text/plain": [
       "13.864926076100726"
      ]
     },
     "execution_count": 26,
     "metadata": {},
     "output_type": "execute_result"
    }
   ],
   "source": [
    "# Z-score for bluestreet\n",
    "(np.mean(net_event_ISC_bluestreets[11]) - np.mean(np.nanmean(isc_null_bluestreets[11],axis = 1)))/np.std(np.nanmean(isc_null_bluestreets[11],axis = 1))"
   ]
  },
  {
   "cell_type": "code",
   "execution_count": 27,
   "metadata": {},
   "outputs": [],
   "source": [
    "# MPN"
   ]
  },
  {
   "cell_type": "code",
   "execution_count": 28,
   "metadata": {},
   "outputs": [
    {
     "data": {
      "text/plain": [
       "4.870431214838614"
      ]
     },
     "execution_count": 28,
     "metadata": {},
     "output_type": "execute_result"
    }
   ],
   "source": [
    "# z-score for barmaid\n",
    "(np.mean(net_event_ISC_barmaid[12]) - np.mean(np.nanmean(isc_null_barmaid[12],axis = 1)))/np.std(np.nanmean(isc_null_barmaid[12],axis = 1))"
   ]
  },
  {
   "cell_type": "code",
   "execution_count": 29,
   "metadata": {},
   "outputs": [
    {
     "data": {
      "text/plain": [
       "5.79330070216496"
      ]
     },
     "execution_count": 29,
     "metadata": {},
     "output_type": "execute_result"
    }
   ],
   "source": [
    "# Z-score for bluestreet\n",
    "(np.mean(net_event_ISC_bluestreets[12]) - np.mean(np.nanmean(isc_null_bluestreets[12],axis = 1)))/np.std(np.nanmean(isc_null_bluestreets[12],axis = 1))"
   ]
  },
  {
   "cell_type": "markdown",
   "metadata": {},
   "source": [
    "## plot effects for hippocampal-cortical networks"
   ]
  },
  {
   "cell_type": "code",
   "execution_count": 30,
   "metadata": {},
   "outputs": [],
   "source": [
    "nets_of_interest = [10,11,9,12]"
   ]
  },
  {
   "cell_type": "code",
   "execution_count": 31,
   "metadata": {},
   "outputs": [],
   "source": [
    "net_order = [1,2,0,3]"
   ]
  },
  {
   "cell_type": "code",
   "execution_count": 32,
   "metadata": {},
   "outputs": [],
   "source": [
    "colors = ['#34A853','#4285F4','#EA4335','#FBBC05'];"
   ]
  },
  {
   "cell_type": "code",
   "execution_count": 33,
   "metadata": {},
   "outputs": [],
   "source": [
    "net_names_select = [ 'MTN', 'PMN','ATN', 'MPN']"
   ]
  },
  {
   "cell_type": "code",
   "execution_count": 34,
   "metadata": {},
   "outputs": [],
   "source": [
    "isc_null_bluestreets_select= isc_null_bluestreets[9:13]"
   ]
  },
  {
   "cell_type": "code",
   "execution_count": 35,
   "metadata": {},
   "outputs": [],
   "source": [
    "net_event_ISC_bluestreets_select=net_event_ISC_bluestreets[9:13]"
   ]
  },
  {
   "cell_type": "code",
   "execution_count": 40,
   "metadata": {},
   "outputs": [],
   "source": [
    "isc_null_barmaid_select= isc_null_barmaid[9:13]"
   ]
  },
  {
   "cell_type": "code",
   "execution_count": 41,
   "metadata": {},
   "outputs": [],
   "source": [
    "net_event_ISC_barmaid_select=net_event_ISC_barmaid[9:13]"
   ]
  },
  {
   "cell_type": "code",
   "execution_count": 286,
   "metadata": {},
   "outputs": [
    {
     "data": {
      "image/png": "[encoded data removed]",
      "text/plain": [
       "<Figure size 432x288 with 1 Axes>"
      ]
     },
     "metadata": {},
     "output_type": "display_data"
    }
   ],
   "source": [
    "matplotlib.rcParams.update({'font.size': 20})\n",
    "\n",
    "ax = plt.subplot()\n",
    "for net in range(np.size(nets_of_interest)):\n",
    "    violin_parts = plt.violinplot(np.concatenate([np.nanmean(isc_null_barmaid_select[net_order[net]],axis=1),\n",
    "                                                  np.nanmean(isc_null_bluestreets_select[net_order[net]],axis=1)]),showextrema=False,positions=[net+1])    \n",
    "    for pc in violin_parts['bodies']:\n",
    "        pc.set_facecolor('darkgray')\n",
    "        pc.set_edgecolor('gray')\n",
    "        pc.set_alpha(1)\n",
    "        # get the center\n",
    "        #m = np.mean(pc.get_paths()[0].vertices[:, 0])\n",
    "        # modify the paths to not go further right than the center\n",
    "        #pc.get_paths()[0].vertices[:, 0] = np.clip(pc.get_paths()[0].vertices[:, 0], -np.inf, m)\n",
    "    plt.plot(net+1,np.mean([np.nanmean(net_event_ISC_barmaid_select[net_order[net]]),\n",
    "                                       np.nanmean(net_event_ISC_bluestreets_select[net_order[net]])]),marker='o', markersize=15,markeredgewidth=2,markeredgecolor='black',linewidth=0,mfc = colors[net])\n",
    "    #plt.errorbar(net+1, np.mean([np.nanmean(net_event_ISC_barmaid_select[net_order[net]]),np.nanmean(net_event_ISC_bluestreets_select[net_order[net]])]),\n",
    "    #         yerr = stats.sem(np.concatenate([net_event_ISC_barmaid_select[net_order[net]],\n",
    "    #                                          net_event_ISC_bluestreets_select[net_order[net]]])),\n",
    "    #        capsize=5,color = 'black')\n",
    "plt.xticks(range(1,np.size(nets_of_interest)+1),net_names_select,rotation=45)\n",
    "plt.ylabel('Intersubject PS',fontsize=25)\n",
    "\n",
    "plt.ylim([-0.1, .35])\n",
    "\n",
    "# Hide the right and top spines\n",
    "ax.spines['right'].set_visible(False)\n",
    "ax.spines['top'].set_visible(False)"
   ]
  },
  {
   "cell_type": "markdown",
   "metadata": {},
   "source": [
    "## recall-recall ISC"
   ]
  },
  {
   "cell_type": "code",
   "execution_count": 53,
   "metadata": {},
   "outputs": [],
   "source": [
    "# cycle through subject\n",
    "recall_isc_data = np.zeros([np.shape(subj_recall)[0], n_rois, n_TRs])\n",
    "for j, sub in subj_recall.iterrows():\n",
    "    sub_isc_data = []\n",
    "    # go through all the glasser rois (hippocampal rois will be done after)\n",
    "    for roi in range(len(glasser_nodes)-4):\n",
    "        epi = np.load(analysis_dir+'glasser_ROIs/epi_'+roi_list.iloc[roi]['Unnamed: 2']+'_'+sub['subj_id']+ sub['movie']+sub['run']+'_recall.npy')\n",
    "        sub_isc_data.append(np.mean(epi,1))\n",
    "    sub_isc_data = np.array(sub_isc_data)\n",
    "    recall_isc_data[j,:358,:np.shape(sub_isc_data)[1]] = sub_isc_data\n"
   ]
  },
  {
   "cell_type": "code",
   "execution_count": null,
   "metadata": {},
   "outputs": [],
   "source": [
    "np.save(analysis_dir+'recall_isc_data.npy',recall_isc_data)"
   ]
  },
  {
   "cell_type": "code",
   "execution_count": 54,
   "metadata": {},
   "outputs": [],
   "source": [
    "recall_isc_data = np.load(analysis_dir+'recall_isc_data.npy')"
   ]
  },
  {
   "cell_type": "code",
   "execution_count": 110,
   "metadata": {},
   "outputs": [],
   "source": [
    "isc_iterations = 5000\n",
    "\n",
    "net_event_ISC_barmaid_recall= []\n",
    "isc_null_barmaid_recall=[]\n",
    "net_tracker_isc = []\n",
    "subject_label_isc= []\n",
    "isc_barmaid_sub_event_recall=[]\n",
    "\n",
    "for net in range(13):\n",
    "    # create a list of subjects to loop through\n",
    "    subj_id = subj_recall['subj_id'].unique()\n",
    "\n",
    "    num_run_barmaid = np.sum(subj_recall['movie']=='barmaid')\n",
    "\n",
    "    # open the design matrices of the recall of subjects\n",
    "    with open(analysis_dir+'barmaid_recall_design.data', 'rb') as filehandle:\n",
    "    # read the data as binary data stream\n",
    "        design = pickle.load(filehandle)\n",
    "    n = design.shape[0]\n",
    "    n_events = design[0].shape[1]\n",
    "    \n",
    "    index = glasser_nodes['community_sublabels']==net+1\n",
    "    roi_num = np.sum(index)\n",
    "    \n",
    "    recall_beta_sample = np.zeros([roi_num,n_events,n_sub])\n",
    "    row = 0\n",
    "    for sub in range(len(subj_id)):\n",
    "        temp_df = subj_recall[subj_recall['subj_id']==subj_id[sub]][subj_recall['movie']=='barmaid'].reset_index()\n",
    "        num_runs = len(temp_df)\n",
    "\n",
    "        beta_pre = []\n",
    "        for run in range(num_runs):\n",
    "            \n",
    "            recall_data = recall_isc_data[run,index,:]\n",
    "\n",
    "            recall_data = np.transpose(recall_data,[1,0])\n",
    "\n",
    "            # organize data in proper order\n",
    "            recall_xform=stats.zscore(recall_data, axis=0, ddof=1)\n",
    "            recall_xform = np.nan_to_num(recall_xform)\n",
    "            \n",
    "\n",
    "            #calculate event level voxel patterns\n",
    "            #beta_pre = np.zeros([roi_num,n_events,num_runs])\n",
    "\n",
    "            for ppt in range(num_runs):\n",
    "                beta_pre.append(deconv(np.transpose(recall_xform,[1,0])[:, :design[row].shape[0]], design[row]))\n",
    "            row = row+1\n",
    "        beta_pre = np.array(beta_pre)\n",
    "        beta_pre[abs(beta_pre)<0.00000000000001]=0\n",
    "        recall_beta_combined = np.nansum(np.array(beta_pre),0)\n",
    "        recall_beta_combined = zscore(recall_beta_combined,axis=0,ddof = 1)\n",
    "        recall_beta_sample[:,:,sub] = recall_beta_combined\n",
    "        \n",
    "        \n",
    "    #calculate event level isc for correct and scrambled labels\n",
    "    spatial_event_isc_reconstructed = isc_recall(np.transpose(recall_beta_sample,[1,0,2])[1:,:,:], collapse_subj=False)\n",
    "    spatial_subject_isc = np.nanmean(spatial_event_isc_reconstructed,0)\n",
    "\n",
    "    spatial_subject_isc_null = []\n",
    "    for iteration in range(isc_iterations):\n",
    "        spatial_event_isc_reconstructed_null = isc_reorder(np.transpose(recall_beta_sample,[1,0,2])[1:,:,:], collapse_subj=False)\n",
    "        spatial_subject_isc_null.append(np.nanmean(spatial_event_isc_reconstructed_null,0))\n",
    "\n",
    "    net_event_ISC_barmaid_recall.append(spatial_subject_isc)\n",
    "    isc_null_barmaid_recall.append(spatial_subject_isc_null)\n",
    "    \n"
   ]
  },
  {
   "cell_type": "markdown",
   "metadata": {},
   "source": [
    "## bluestreets recall-recall"
   ]
  },
  {
   "cell_type": "code",
   "execution_count": 111,
   "metadata": {},
   "outputs": [],
   "source": [
    "isc_iterations = 5000\n",
    "\n",
    "net_event_ISC_bluestreets_recall= []\n",
    "isc_null_bluestreets_recall=[]\n",
    "isc_bluestreets_sub_event_recall=[]\n",
    "\n",
    "for net in range(13):\n",
    "    # create a list of subjects to loop through\n",
    "    subj_id = subj_recall['subj_id'].unique()\n",
    "\n",
    "    num_run = np.sum(subj_recall['movie']=='bluestreets')\n",
    "\n",
    "    # open the design matrices of the recall of subjects\n",
    "    with open(analysis_dir+'bluestreets_recall_design.data', 'rb') as filehandle:\n",
    "    # read the data as binary data stream\n",
    "        design = pickle.load(filehandle)\n",
    "    n = design.shape[0]\n",
    "    n_events = design[0].shape[1]\n",
    "    \n",
    "    index = glasser_nodes['community_sublabels']==net+1\n",
    "    roi_num = np.sum(index)\n",
    "    \n",
    "    recall_beta_sample = np.zeros([roi_num,n_events,n_sub])\n",
    "    row = 0\n",
    "    for sub in range(len(subj_id)):\n",
    "        temp_df = subj_recall[subj_recall['subj_id']==subj_id[sub]][subj_recall['movie']=='bluestreets'].reset_index()\n",
    "        num_runs = len(temp_df)\n",
    "\n",
    "        beta_pre = []\n",
    "        for run in range(num_runs):\n",
    "            \n",
    "            recall_data = recall_isc_data[row+num_run_barmaid,index,:]\n",
    "\n",
    "            recall_data = np.transpose(recall_data,[1,0])\n",
    "\n",
    "            # organize data in proper order\n",
    "            recall_xform=stats.zscore(recall_data, axis=0, ddof=1)\n",
    "            recall_xform = np.nan_to_num(recall_xform)\n",
    "            \n",
    "\n",
    "            #calculate event level voxel patterns\n",
    "            #beta_pre = np.zeros([roi_num,n_events,num_runs])\n",
    "\n",
    "            for ppt in range(num_runs):\n",
    "                beta_pre.append(deconv(np.transpose(recall_xform,[1,0])[:, :design[row].shape[0]], design[row]))\n",
    "             ## python has a problem with rounding things and thus some elements need to be put to 0\n",
    "            #beta=zscore(beta_pre[:, :],axis=0, ddof=1)\n",
    "            #np.save(analysis_dir+'/betas/recall_beta_nosrm_glasser'+str(roi_list[i])+movie_list[k]+'_smooth.npy',beta)\n",
    "            row = row+1\n",
    "        beta_pre = np.array(beta_pre)\n",
    "        beta_pre[abs(beta_pre)<0.00000000000001]=0\n",
    "        recall_beta_combined = np.nansum(np.array(beta_pre),0)\n",
    "        recall_beta_combined = zscore(recall_beta_combined,axis=0,ddof = 1)\n",
    "        #plt.figure()\n",
    "        #plt.imshow(recall_beta_combined,aspect='auto')\n",
    "        #plt.title(subj_list[sub])\n",
    "        recall_beta_sample[:,:,sub] = recall_beta_combined\n",
    "        \n",
    "        \n",
    "    #calculate event level isc for correct and scrambled labels\n",
    "    spatial_event_isc_reconstructed = isc_recall(np.transpose(recall_beta_sample,[1,0,2])[1:,:,:], collapse_subj=False)\n",
    "    spatial_subject_isc = np.nanmean(spatial_event_isc_reconstructed,0)\n",
    "\n",
    "    spatial_subject_isc_null = []\n",
    "    for iteration in range(isc_iterations):\n",
    "        spatial_event_isc_reconstructed_null = isc_reorder(np.transpose(recall_beta_sample,[1,0,2])[1:,:,:], collapse_subj=False)\n",
    "        spatial_subject_isc_null.append(np.nanmean(spatial_event_isc_reconstructed_null,0))\n",
    "\n",
    "    net_event_ISC_bluestreets_recall.append(spatial_subject_isc)\n",
    "    isc_null_bluestreets_recall.append(spatial_subject_isc_null)\n",
    "    \n",
    "    # get the ISC for each subject and event in a row\n",
    "    #for sub in range(n_sub):\n",
    "    #    for event in range(n_events):\n",
    "    #        isc_bluestreets_sub_event_recall.append(spatial_event_isc_reconstructed[event,sub])\n",
    "            #net_tracker_isc.append(net+1)\n",
    "            #subject_label_isc.append(subj_list['subj_id'][sub])\n",
    "\n",
    "\n"
   ]
  },
  {
   "cell_type": "markdown",
   "metadata": {},
   "source": [
    "### calculate z -scores for recall-recall"
   ]
  },
  {
   "cell_type": "code",
   "execution_count": 112,
   "metadata": {},
   "outputs": [],
   "source": [
    "## ATN"
   ]
  },
  {
   "cell_type": "code",
   "execution_count": 113,
   "metadata": {},
   "outputs": [
    {
     "data": {
      "text/plain": [
       "1.9138227538100556"
      ]
     },
     "execution_count": 113,
     "metadata": {},
     "output_type": "execute_result"
    }
   ],
   "source": [
    "#barmaid\n",
    "(np.nanmean(net_event_ISC_barmaid_recall[9],axis=0) - np.mean(np.nanmean(isc_null_barmaid_recall[9],axis=1)))/np.std(np.nanmean(isc_null_barmaid_recall[9],axis=1))"
   ]
  },
  {
   "cell_type": "code",
   "execution_count": 114,
   "metadata": {},
   "outputs": [
    {
     "data": {
      "text/plain": [
       "4.69877469810118"
      ]
     },
     "execution_count": 114,
     "metadata": {},
     "output_type": "execute_result"
    }
   ],
   "source": [
    "#bluestreets\n",
    "(np.nanmean(net_event_ISC_bluestreets_recall[9],axis=0) - np.mean(np.nanmean(isc_null_bluestreets_recall[9],axis=1)))/np.std(np.nanmean(isc_null_bluestreets_recall[9],axis=1))"
   ]
  },
  {
   "cell_type": "code",
   "execution_count": 115,
   "metadata": {},
   "outputs": [],
   "source": [
    "## MTN"
   ]
  },
  {
   "cell_type": "code",
   "execution_count": 116,
   "metadata": {},
   "outputs": [
    {
     "data": {
      "text/plain": [
       "3.4188728291607777"
      ]
     },
     "execution_count": 116,
     "metadata": {},
     "output_type": "execute_result"
    }
   ],
   "source": [
    "#barmaid\n",
    "(np.nanmean(net_event_ISC_barmaid_recall[10],axis=0) - np.mean(np.nanmean(isc_null_barmaid_recall[10],axis=1)))/np.std(np.nanmean(isc_null_barmaid_recall[10],axis=1))"
   ]
  },
  {
   "cell_type": "code",
   "execution_count": 117,
   "metadata": {},
   "outputs": [
    {
     "data": {
      "text/plain": [
       "4.495672592533873"
      ]
     },
     "execution_count": 117,
     "metadata": {},
     "output_type": "execute_result"
    }
   ],
   "source": [
    "#bluestreets\n",
    "(np.nanmean(net_event_ISC_bluestreets_recall[10],axis=0) - np.mean(np.nanmean(isc_null_bluestreets_recall[10],axis=1)))/np.std(np.nanmean(isc_null_bluestreets_recall[10],axis=1))"
   ]
  },
  {
   "cell_type": "code",
   "execution_count": 118,
   "metadata": {},
   "outputs": [],
   "source": [
    "## PMN"
   ]
  },
  {
   "cell_type": "code",
   "execution_count": 119,
   "metadata": {},
   "outputs": [
    {
     "data": {
      "text/plain": [
       "2.984272437991761"
      ]
     },
     "execution_count": 119,
     "metadata": {},
     "output_type": "execute_result"
    }
   ],
   "source": [
    "#barmaid\n",
    "(np.nanmean(net_event_ISC_barmaid_recall[11],axis=0) - np.mean(np.nanmean(isc_null_barmaid_recall[11],axis=1)))/np.std(np.nanmean(isc_null_barmaid_recall[11],axis=1))"
   ]
  },
  {
   "cell_type": "code",
   "execution_count": 120,
   "metadata": {},
   "outputs": [
    {
     "data": {
      "text/plain": [
       "7.284822918591033"
      ]
     },
     "execution_count": 120,
     "metadata": {},
     "output_type": "execute_result"
    }
   ],
   "source": [
    "#bluestreets\n",
    "(np.nanmean(net_event_ISC_bluestreets_recall[11],axis=0) - np.mean(np.nanmean(isc_null_bluestreets_recall[11],axis=1)))/np.std(np.nanmean(isc_null_bluestreets_recall[11],axis=1))"
   ]
  },
  {
   "cell_type": "code",
   "execution_count": 121,
   "metadata": {},
   "outputs": [],
   "source": [
    "## MPN"
   ]
  },
  {
   "cell_type": "code",
   "execution_count": 122,
   "metadata": {},
   "outputs": [
    {
     "data": {
      "text/plain": [
       "2.045274320887095"
      ]
     },
     "execution_count": 122,
     "metadata": {},
     "output_type": "execute_result"
    }
   ],
   "source": [
    "#barmaid\n",
    "(np.nanmean(net_event_ISC_barmaid_recall[12],axis=0) - np.mean(np.nanmean(isc_null_barmaid_recall[12],axis=1)))/np.std(np.nanmean(isc_null_barmaid_recall[12],axis=1))"
   ]
  },
  {
   "cell_type": "code",
   "execution_count": 123,
   "metadata": {},
   "outputs": [
    {
     "data": {
      "text/plain": [
       "0.7893116559634198"
      ]
     },
     "execution_count": 123,
     "metadata": {},
     "output_type": "execute_result"
    }
   ],
   "source": [
    "#bluestreets\n",
    "(np.nanmean(net_event_ISC_bluestreets_recall[12],axis=0) - np.mean(np.nanmean(isc_null_bluestreets_recall[12],axis=1)))/np.std(np.nanmean(isc_null_bluestreets_recall[12],axis=1))"
   ]
  },
  {
   "cell_type": "markdown",
   "metadata": {},
   "source": [
    "## plot effects of recall-recall"
   ]
  },
  {
   "cell_type": "code",
   "execution_count": 124,
   "metadata": {},
   "outputs": [],
   "source": [
    "net_event_ISC_barmaid_recall_select = net_event_ISC_barmaid_recall[9:13]\n",
    "isc_null_barmaid_recall_select = isc_null_barmaid_recall[9:13]"
   ]
  },
  {
   "cell_type": "code",
   "execution_count": 125,
   "metadata": {},
   "outputs": [],
   "source": [
    "net_event_ISC_bluestreets_recall_select = net_event_ISC_bluestreets_recall[9:13]\n",
    "isc_null_bluestreets_recall_select = isc_null_bluestreets_recall[9:13]"
   ]
  },
  {
   "cell_type": "code",
   "execution_count": 288,
   "metadata": {},
   "outputs": [
    {
     "data": {
      "image/png": "[encoded data removed]",
      "text/plain": [
       "<Figure size 432x288 with 1 Axes>"
      ]
     },
     "metadata": {},
     "output_type": "display_data"
    }
   ],
   "source": [
    "matplotlib.rcParams.update({'font.size': 20})\n",
    "\n",
    "ax = plt.subplot()\n",
    "for net in range(np.size(nets_of_interest)):\n",
    "    violin_parts = plt.violinplot(np.concatenate([np.nanmean(isc_null_barmaid_recall_select[net_order[net]],axis=1),\n",
    "                                                  np.nanmean(isc_null_bluestreets_recall_select[net_order[net]],axis=1)]),showextrema=False,positions=[net+1])    \n",
    "    for pc in violin_parts['bodies']:\n",
    "        pc.set_facecolor('darkgray')\n",
    "        pc.set_edgecolor('gray')\n",
    "        pc.set_alpha(1)\n",
    "        # get the center\n",
    "        #m = np.mean(pc.get_paths()[0].vertices[:, 0])\n",
    "        # modify the paths to not go further right than the center\n",
    "        #pc.get_paths()[0].vertices[:, 0] = np.clip(pc.get_paths()[0].vertices[:, 0], -np.inf, m)\n",
    "        \n",
    "    plt.plot(net+1,np.mean([np.nanmean(net_event_ISC_barmaid_recall_select[net_order[net]]),\n",
    "                                       np.nanmean(net_event_ISC_bluestreets_recall_select[net_order[net]])]),marker='o', markersize=15,markeredgewidth=2,\n",
    "             markeredgecolor='black',linewidth=0,mfc = colors[net])\n",
    "    #plt.errorbar(net+1, np.mean([np.nanmean(net_event_ISC_barmaid_recall_select[net_order[net]]),\n",
    "    #                             np.nanmean(net_event_ISC_bluestreets_recall_select[net_order[net]])]),\n",
    "    #         yerr = stats.sem(np.concatenate([net_event_ISC_barmaid_recall_select[net_order[net]],\n",
    "    #                                          net_event_ISC_bluestreets_recall_select[net_order[net]]])),\n",
    "    #         capsize=5,color = 'black')\n",
    "plt.xticks(range(1,np.size(nets_of_interest)+1),net_names_select,rotation=45)\n",
    "plt.ylabel('Intersubject PS',fontsize=25)\n",
    "\n",
    "#plt.ylim([-0.1, .35])\n",
    "\n",
    "# Hide the right and top spines\n",
    "ax.spines['right'].set_visible(False)\n",
    "ax.spines['top'].set_visible(False)"
   ]
  }
 ],
 "metadata": {
  "kernelspec": {
   "display_name": "Python 3",
   "language": "python",
   "name": "python3"
  },
  "language_info": {
   "codemirror_mode": {
    "name": "ipython",
    "version": 3
   },
   "file_extension": ".py",
   "mimetype": "text/x-python",
   "name": "python",
   "nbconvert_exporter": "python",
   "pygments_lexer": "ipython3",
   "version": "3.7.6"
  }
 },
 "nbformat": 4,
 "nbformat_minor": 2
}
