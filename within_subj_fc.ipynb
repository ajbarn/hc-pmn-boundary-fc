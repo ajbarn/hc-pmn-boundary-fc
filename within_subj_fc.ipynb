{
 "cells": [
  {
   "cell_type": "markdown",
   "metadata": {},
   "source": [
    "with this notebook, I want to:\n",
    "1. load in the fMRI data from the run\n",
    "2. extract the mean signal from each ROI in the glasser atlas, along with the ant and post hc in L/R hemi\n",
    "3. correlate the signals of each pair of ROIs\n",
    "4. fisher z-transform these signals"
   ]
  },
  {
   "cell_type": "markdown",
   "metadata": {},
   "source": [
    "## load libraries"
   ]
  },
  {
   "cell_type": "code",
   "execution_count": 2,
   "metadata": {},
   "outputs": [
    {
     "name": "stderr",
     "output_type": "stream",
     "text": [
      "/Users/alexbarnett/anaconda3/lib/python3.6/site-packages/sklearn/externals/joblib/__init__.py:15: DeprecationWarning: sklearn.externals.joblib is deprecated in 0.21 and will be removed in 0.23. Please import this functionality directly from joblib, which can be installed with: pip install joblib. If this warning is raised when loading pickled models, you may need to re-serialize those models with scikit-learn 0.21+.\n",
      "  warnings.warn(msg, category=DeprecationWarning)\n"
     ]
    },
    {
     "data": {
      "application/javascript": [
       "IPython.notebook.set_autosave_interval(5000)"
      ]
     },
     "metadata": {},
     "output_type": "display_data"
    },
    {
     "name": "stdout",
     "output_type": "stream",
     "text": [
      "Autosaving every 5 seconds\n"
     ]
    }
   ],
   "source": [
    "import warnings\n",
    "import sys \n",
    "if not sys.warnoptions:\n",
    "    warnings.simplefilter(\"ignore\")\n",
    "import os \n",
    "from mpl_toolkits.axes_grid1 import make_axes_locatable\n",
    "\n",
    "import numpy as np\n",
    "import numpy.ma as ma\n",
    "from scipy import stats\n",
    "import scipy.spatial.distance as sp_distance\n",
    "from sklearn.svm import NuSVC\n",
    "import nibabel as nib\n",
    "from nilearn.input_data import NiftiMasker,  MultiNiftiMasker\n",
    "from nilearn.masking import intersect_masks\n",
    "from sklearn import preprocessing\n",
    "import seaborn as sns \n",
    "from brainiak.isfc import isc\n",
    "from brainiak.isfc import isfc\n",
    "from brainiak.fcma.util import compute_correlation\n",
    "import brainiak.funcalign.srm\n",
    "#from brainiak import image, io\n",
    "import pandas as pd\n",
    "import matplotlib.pyplot as plt\n",
    "from pandas import *\n",
    "from nilearn.masking import apply_mask\n",
    "from nilearn.image import resample_to_img\n",
    "from nipype.interfaces import afni\n",
    "from nipy.labs.mask import intersect_masks\n",
    "from scipy.stats import zscore, norm\n",
    "from sklearn import linear_model\n",
    "#from isc_reorder import isc_reorder\n",
    "#from isc_recall import isc_recall\n",
    "import pickle\n",
    "from nilearn import image\n",
    "import igraph\n",
    "import bct\n",
    "\n",
    "from statsmodels.stats.anova import anova_lm\n",
    "from statsmodels.formula.api import ols\n",
    "import statsmodels.api as sm\n",
    "import statsmodels.formula.api as smf\n",
    "\n",
    "import multiprocessing as mp\n",
    "import time\n",
    "\n",
    "from nilearn.plotting import plot_roi, show\n",
    "\n",
    "\n",
    "%autosave 5\n",
    "%matplotlib inline"
   ]
  },
  {
   "cell_type": "markdown",
   "metadata": {},
   "source": [
    "## set variables"
   ]
  },
  {
   "cell_type": "code",
   "execution_count": 3,
   "metadata": {},
   "outputs": [],
   "source": [
    "#data_dir = '/Users/alexbarnett/Documents/TTTvsPMAT/fMRI/cartoon_recall_fmriprep_2020/fmriprep/'\n",
    "analysis_dir = '/Users/alexbarnett/Documents/TTTvsPMAT/fMRI/SRM_2020/'\n",
    "subjlist_full = pd.read_excel(analysis_dir+'subjlist.xlsx')\n",
    "roi_dir = '/Users/alexbarnett/Documents/TTTvsPMAT/fMRI/cartoon_recall_fmriprep_2020/freesurfer/HCP-MMP1_subject_atlas/'\n",
    "roi_list = pd.read_excel(analysis_dir+'roilist.xlsx')\n",
    "movie_list = ['barmaid','bluestreets']\n",
    "subj_recall=pd.read_excel(analysis_dir+'subj_recall_sessions_run.xlsx')\n",
    "event_boundaries = pd.read_excel(analysis_dir+'fmri_recall_event_boundaries_14events_each.xlsx')"
   ]
  },
  {
   "cell_type": "code",
   "execution_count": 101,
   "metadata": {},
   "outputs": [],
   "source": [
    "glasser_nodes=pd.read_excel(analysis_dir+'within_subj_fc/hc_glasser_nodes.xlsx')"
   ]
  },
  {
   "cell_type": "code",
   "execution_count": 4,
   "metadata": {},
   "outputs": [],
   "source": [
    "with open(analysis_dir+'subject_design_label_bluestreets.data', 'rb') as filehandle:\n",
    "        # read the data as binary data stream\n",
    "        subject_design_label_bluestreets = pickle.load(filehandle)\n",
    "with open(analysis_dir+'subject_design_label_barmaid.data', 'rb') as filehandle:\n",
    "        # read the data as binary data stream\n",
    "        subject_design_label_barmaid = pickle.load(filehandle)"
   ]
  },
  {
   "cell_type": "code",
   "execution_count": 5,
   "metadata": {},
   "outputs": [],
   "source": [
    "with open(analysis_dir+'barmaid_recall_design.data', 'rb') as filehandle:\n",
    "    # read the data as binary data stream\n",
    "    barmaid_design = pickle.load(filehandle)\n",
    "    \n",
    "with open(analysis_dir+'bluestreets_recall_design.data', 'rb') as filehandle:\n",
    "    # read the data as binary data stream\n",
    "    bluestreets_design = pickle.load(filehandle)"
   ]
  },
  {
   "cell_type": "code",
   "execution_count": 6,
   "metadata": {},
   "outputs": [],
   "source": [
    "both_movies_design = np.concatenate((barmaid_design,bluestreets_design))"
   ]
  },
  {
   "cell_type": "code",
   "execution_count": 7,
   "metadata": {},
   "outputs": [],
   "source": [
    "hc_list = ['_L_ant_hippo.nii.gz','_L_post_hippo.nii.gz','_R_ant_hippo.nii.gz','_R_post_hippo.nii.gz']"
   ]
  },
  {
   "cell_type": "code",
   "execution_count": 8,
   "metadata": {},
   "outputs": [],
   "source": [
    "indsort = np.loadtxt(analysis_dir+'INDSORT.txt')\n",
    "indsort=indsort.astype('int32')\n",
    "for i in range(len(indsort)):\n",
    "    indsort[i] = indsort[i] - 1"
   ]
  },
  {
   "cell_type": "code",
   "execution_count": 9,
   "metadata": {},
   "outputs": [],
   "source": [
    "## add hippocampal posititions to indsort\n",
    "indsort_all =np.append(indsort,[358,359,360,361])"
   ]
  },
  {
   "cell_type": "code",
   "execution_count": 10,
   "metadata": {},
   "outputs": [],
   "source": [
    "indsort_sub = np.loadtxt(analysis_dir+'indsort_subnetworks.txt')\n",
    "indsort_sub=indsort_sub.astype('int32')\n",
    "for i in range(len(indsort_sub)):\n",
    "    indsort_sub[i] = indsort_sub[i] -1"
   ]
  },
  {
   "cell_type": "code",
   "execution_count": 11,
   "metadata": {},
   "outputs": [],
   "source": [
    "indsort_sub =np.append(indsort_sub,[358,359,360,361])"
   ]
  },
  {
   "cell_type": "markdown",
   "metadata": {},
   "source": [
    "## load in SRM movie data"
   ]
  },
  {
   "cell_type": "code",
   "execution_count": 43,
   "metadata": {},
   "outputs": [],
   "source": [
    "# make ROI x TR x subject matrix\n",
    "num_TR = 550\n",
    "num_subs = 24\n",
    "num_glasser_rois = 358\n",
    "num_hc_rois = 4\n",
    "num_rois = num_glasser_rois+num_hc_rois\n",
    "SRM_data =np.empty([num_rois, num_TR, num_subs])"
   ]
  },
  {
   "cell_type": "code",
   "execution_count": 49,
   "metadata": {},
   "outputs": [],
   "source": [
    "## this is the right preprocessing\n",
    "\n",
    "def roi_extract(sub):\n",
    "    SRM_data = np.empty([num_rois,num_TR])\n",
    "    print(subjlist_full['subj_id'][sub])\n",
    "    epi_img = nib.load(analysis_dir+'confound_corrected_data/fc_data/'+subjlist_full['subj_id'][sub]+'_'+subjlist_full['ses_num'][sub]+'_task-srmmovie_run-1_space-T1w_desc-preproc_bold_denoised_GSR_filter.nii.gz')\n",
    "    for roi in range(num_glasser_rois):\n",
    "        roi_mask = nib.load(roi_dir+subjlist_full['subj_id'][sub]+'/rois/'+roi_list['region'][roi])\n",
    "        mask_SRM = resample_to_img(roi_mask,epi_img,interpolation='nearest')\n",
    "        epi_mask_img = apply_mask(epi_img, mask_SRM)\n",
    "        SRM_data[roi,:] = np.mean(epi_mask_img.T,axis=0)\n",
    "    return SRM_data\n",
    "    "
   ]
  },
  {
   "cell_type": "code",
   "execution_count": 50,
   "metadata": {},
   "outputs": [
    {
     "name": "stdout",
     "output_type": "stream",
     "text": [
      "sub-101\n",
      "--- 8.297278881072998 seconds ---\n"
     ]
    }
   ],
   "source": [
    "## run the parallelized function\n",
    "start_time = time.time()\n",
    "\n",
    "# Step 1: Init multiprocessing.Pool()\n",
    "pool = mp.Pool(mp.cpu_count())\n",
    "\n",
    "SRM_data_all=[]\n",
    "# Step 2: `pool.apply` the `perm_reinstatement()`\n",
    "SRM_data_all= pool.map(roi_extract, range(num_subs))\n",
    "\n",
    "# Step 3: Don't forget to close\n",
    "pool.close() \n",
    "\n",
    "print(\"--- %s seconds ---\" % (time.time() - start_time))"
   ]
  },
  {
   "cell_type": "code",
   "execution_count": 25,
   "metadata": {},
   "outputs": [],
   "source": [
    "## extract hippocampal ROI data\n",
    "def roi_extract(sub):\n",
    "    SRM_data = np.empty([num_hc_rois,num_TR])\n",
    "    epi_img = nib.load(analysis_dir+'confound_corrected_data/'+subjlist_full['subj_id'][sub]+'_'+subjlist_full['ses_num'][sub]+'_task-srmmovie_run-1_space-T1w_desc-preproc_bold_denoised_GSR_filter.nii.gz')\n",
    "    for roi in range(num_hc_rois):\n",
    "        roi_mask = nib.load('/Volumes/dml/ajbarnett/cartoon_recall_fmriprep_2020/hc_masks/'+subjlist_full['subj_id'][sub]+'/'+subjlist_full['subj_id'][sub]+hc_list[roi])\n",
    "        mask_SRM = resample_to_img(roi_mask,epi_img,interpolation='nearest')\n",
    "        epi_mask_img = apply_mask(epi_img, mask_SRM)\n",
    "        SRM_data[roi,:] = np.mean(epi_mask_img.T,axis=0)\n",
    "    return SRM_data\n",
    "    "
   ]
  },
  {
   "cell_type": "code",
   "execution_count": 26,
   "metadata": {},
   "outputs": [
    {
     "name": "stdout",
     "output_type": "stream",
     "text": [
      "--- 37.87176203727722 seconds ---\n"
     ]
    }
   ],
   "source": [
    "## run the parallelized function\n",
    "start_time = time.time()\n",
    "\n",
    "# Step 1: Init multiprocessing.Pool()\n",
    "pool = mp.Pool(mp.cpu_count())\n",
    "\n",
    "SRM_data_hc=[]\n",
    "# Step 2: `pool.apply` the `perm_reinstatement()`\n",
    "SRM_data_hc= pool.map(roi_extract, range(num_subs))\n",
    "\n",
    "# Step 3: Don't forget to close\n",
    "pool.close() \n",
    "\n",
    "print(\"--- %s seconds ---\" % (time.time() - start_time))"
   ]
  },
  {
   "cell_type": "code",
   "execution_count": 27,
   "metadata": {},
   "outputs": [],
   "source": [
    "##combine HC and glasser ROIs"
   ]
  },
  {
   "cell_type": "code",
   "execution_count": 28,
   "metadata": {},
   "outputs": [],
   "source": [
    "SRM_fc_data = SRM_data_all\n",
    "for i in range(num_subs): \n",
    "    SRM_fc_data[i][358:362][:] = SRM_data_hc[i]"
   ]
  },
  {
   "cell_type": "code",
   "execution_count": 29,
   "metadata": {},
   "outputs": [],
   "source": [
    "##calculate fc\n",
    "subj_SRM_fc =[]\n",
    "for i in range(num_subs):\n",
    "    temp = SRM_fc_data[i]\n",
    "    subj_SRM_fc.append(np.corrcoef(temp))"
   ]
  },
  {
   "cell_type": "code",
   "execution_count": 78,
   "metadata": {},
   "outputs": [],
   "source": [
    "np.save(analysis_dir+'SRM_fc_data_full.npy',SRM_fc_data)"
   ]
  },
  {
   "cell_type": "code",
   "execution_count": 79,
   "metadata": {},
   "outputs": [],
   "source": [
    "np.save(analysis_dir+'subj_SRM_fc_full.npy',subj_SRM_fc)"
   ]
  },
  {
   "cell_type": "markdown",
   "metadata": {},
   "source": [
    "## load in barmaid data"
   ]
  },
  {
   "cell_type": "code",
   "execution_count": 47,
   "metadata": {},
   "outputs": [],
   "source": [
    "# make ROI x TR x subject matrix\n",
    "num_TR = 840\n",
    "num_subs = 24\n",
    "num_glasser_rois = 358\n",
    "num_hc_rois = 4\n",
    "num_rois = 362\n",
    "barmaid_movie_data_all =np.empty([num_rois, num_TR, num_subs])"
   ]
  },
  {
   "cell_type": "code",
   "execution_count": 73,
   "metadata": {},
   "outputs": [],
   "source": [
    "## extract glasser ROI data\n",
    "def roi_extract(sub):\n",
    "    barmaid_movie_data = np.empty([num_glasser_rois,num_TR])\n",
    "    fname = analysis_dir+'confound_corrected_data/fc_data/'+subjlist_full['subj_id'][sub]+'_'+subjlist_full[movie_list[k]+'_ses'][sub]+'_task-movieviewing_'+ subjlist_full[movie_list[k]+'_place'][sub]+'_space-T1w_desc-preproc_bold_denoised_GSR_filter.nii.gz'\n",
    "    epi_img_movie = nib.load(fname)\n",
    "    for roi in range(num_glasser_rois):\n",
    "        roi_mask = nib.load(roi_dir+subjlist_full['subj_id'][sub]+'/rois/'+roi_list['region'][roi])\n",
    "        mask_movie = resample_to_img(roi_mask,epi_img_movie,interpolation='nearest')\n",
    "        epi_mask_img = apply_mask(epi_img_movie, mask_movie)\n",
    "        a,b = epi_mask_img.shape\n",
    "        barmaid_movie_data[roi,:a] = np.mean(epi_mask_img.T,axis=0)\n",
    "    return barmaid_movie_data\n",
    "    "
   ]
  },
  {
   "cell_type": "code",
   "execution_count": 74,
   "metadata": {},
   "outputs": [
    {
     "name": "stdout",
     "output_type": "stream",
     "text": [
      "--- 5305.286900997162 seconds ---\n"
     ]
    }
   ],
   "source": [
    "## run the parallelized function\n",
    "start_time = time.time()\n",
    "k = 0\n",
    "# Step 1: Init multiprocessing.Pool()\n",
    "pool = mp.Pool(mp.cpu_count())\n",
    "\n",
    "barmaid_movie_data_glasser=[]\n",
    "# Step 2: `pool.apply` the `perm_reinstatement()`\n",
    "barmaid_movie_data_glasser= pool.map(roi_extract, range(num_subs))\n",
    "\n",
    "# Step 3: Don't forget to close\n",
    "pool.close() \n",
    "\n",
    "print(\"--- %s seconds ---\" % (time.time() - start_time))"
   ]
  },
  {
   "cell_type": "code",
   "execution_count": 75,
   "metadata": {},
   "outputs": [],
   "source": [
    "## extract hippocampal ROI data\n",
    "def roi_extract(sub):\n",
    "    barmaid_movie_data = np.empty([num_hc_rois,num_TR])\n",
    "    fname = analysis_dir+'confound_corrected_data/fc_data/'+subjlist_full['subj_id'][sub]+'_'+subjlist_full[movie_list[k]+'_ses'][sub]+'_task-movieviewing_'+ subjlist_full[movie_list[k]+'_place'][sub]+'_space-T1w_desc-preproc_bold_denoised_GSR_filter.nii.gz'\n",
    "    epi_img_movie = nib.load(fname)\n",
    "    for roi in range(num_hc_rois):\n",
    "        roi_mask = nib.load('/Volumes/dml/ajbarnett/cartoon_recall_fmriprep_2020/hc_masks/'+subjlist_full['subj_id'][sub]+'/'+subjlist_full['subj_id'][sub]+hc_list[roi])\n",
    "        mask_movie = resample_to_img(roi_mask,epi_img_movie,interpolation='nearest')\n",
    "        epi_mask_img = apply_mask(epi_img_movie, mask_movie)\n",
    "        a,b = epi_mask_img.shape\n",
    "        barmaid_movie_data[roi,:a] = np.mean(epi_mask_img.T,axis=0)\n",
    "    return barmaid_movie_data\n",
    "    "
   ]
  },
  {
   "cell_type": "code",
   "execution_count": 76,
   "metadata": {},
   "outputs": [
    {
     "name": "stdout",
     "output_type": "stream",
     "text": [
      "--- 67.26163697242737 seconds ---\n"
     ]
    }
   ],
   "source": [
    "## run the parallelized function\n",
    "start_time = time.time()\n",
    "k = 0\n",
    "# Step 1: Init multiprocessing.Pool()\n",
    "pool = mp.Pool(mp.cpu_count())\n",
    "\n",
    "barmaid_movie_data_hc=[]\n",
    "# Step 2: `pool.apply` the `perm_reinstatement()`\n",
    "barmaid_movie_data_hc= pool.map(roi_extract, range(num_subs))\n",
    "\n",
    "# Step 3: Don't forget to close\n",
    "pool.close() \n",
    "\n",
    "print(\"--- %s seconds ---\" % (time.time() - start_time))"
   ]
  },
  {
   "cell_type": "code",
   "execution_count": 77,
   "metadata": {},
   "outputs": [],
   "source": [
    "##combine HC and glasser ROIs"
   ]
  },
  {
   "cell_type": "code",
   "execution_count": 78,
   "metadata": {},
   "outputs": [],
   "source": [
    "barmaid_movie_fc_data = np.empty([num_subs,num_rois,num_TR])\n",
    "for i in range(num_subs): \n",
    "    barmaid_movie_fc_data[i][0:358][:] = barmaid_movie_data_glasser[i]\n",
    "\n",
    "for i in range(num_subs): \n",
    "    barmaid_movie_fc_data[i][358:362][:] = barmaid_movie_data_hc[i]"
   ]
  },
  {
   "cell_type": "code",
   "execution_count": 135,
   "metadata": {},
   "outputs": [],
   "source": [
    "barmaid_movie_fc_data = barmaid_movie_fc_data[:,:,0:832]"
   ]
  },
  {
   "cell_type": "code",
   "execution_count": 137,
   "metadata": {},
   "outputs": [],
   "source": [
    "##calculate fc\n",
    "subj_barmaid_movie_fc =[]\n",
    "for i in range(num_subs):\n",
    "    temp = barmaid_movie_fc_data[i]\n",
    "    subj_barmaid_movie_fc.append(np.corrcoef(temp))"
   ]
  },
  {
   "cell_type": "code",
   "execution_count": 223,
   "metadata": {},
   "outputs": [],
   "source": [
    "np.save(analysis_dir+'barmaid_movie_data_extracted_full.npy',barmaid_movie_fc_data)"
   ]
  },
  {
   "cell_type": "code",
   "execution_count": 224,
   "metadata": {},
   "outputs": [],
   "source": [
    "np.save(analysis_dir+'subj_barmaid_movie_fc_full.npy',subj_barmaid_movie_fc)"
   ]
  },
  {
   "cell_type": "code",
   "execution_count": 225,
   "metadata": {},
   "outputs": [],
   "source": [
    "np.save(analysis_dir+'barmaid_movie_data_extracted.npy',barmaid_movie_fc_data)"
   ]
  },
  {
   "cell_type": "code",
   "execution_count": 226,
   "metadata": {},
   "outputs": [],
   "source": [
    "np.save(analysis_dir+'subj_barmaid_movie_fc.npy',subj_barmaid_movie_fc)"
   ]
  },
  {
   "cell_type": "code",
   "execution_count": 871,
   "metadata": {},
   "outputs": [],
   "source": [
    "barmaid_movie_fc_data = np.load(analysis_dir+'barmaid_movie_data_extracted.npy')"
   ]
  },
  {
   "cell_type": "markdown",
   "metadata": {},
   "source": [
    "## load in bluestreets data\n"
   ]
  },
  {
   "cell_type": "code",
   "execution_count": 149,
   "metadata": {},
   "outputs": [],
   "source": [
    "# make ROI x TR x subject matrix\n",
    "num_TR = 840\n",
    "num_subs = 24\n",
    "num_glasser_rois = 358\n",
    "num_hc_rois = 4\n",
    "num_rois = 362\n",
    "bluestreets_movie_data_all =np.empty([num_rois, num_TR, num_subs])"
   ]
  },
  {
   "cell_type": "code",
   "execution_count": 152,
   "metadata": {},
   "outputs": [],
   "source": [
    "## extract glasser ROI data\n",
    "def roi_extract(sub):\n",
    "    bluestreets_movie_data = np.empty([num_glasser_rois,num_TR])\n",
    "    fname = analysis_dir+'confound_corrected_data/fc_data/'+subjlist_full['subj_id'][sub]+'_'+subjlist_full[movie_list[k]+'_ses'][sub]+'_task-movieviewing_'+ subjlist_full[movie_list[k]+'_place'][sub]+'_space-T1w_desc-preproc_bold_denoised_GSR_filter.nii.gz'\n",
    "    epi_img_movie = nib.load(fname)\n",
    "    for roi in range(num_glasser_rois):\n",
    "        roi_mask = nib.load(roi_dir+subjlist_full['subj_id'][sub]+'/rois/'+roi_list['region'][roi])\n",
    "        mask_movie = resample_to_img(roi_mask,epi_img_movie,interpolation='nearest')\n",
    "        epi_mask_img = apply_mask(epi_img_movie, mask_movie)\n",
    "        a,b = epi_mask_img.shape\n",
    "        bluestreets_movie_data[roi,:a] = np.mean(epi_mask_img.T,axis=0)\n",
    "    return bluestreets_movie_data\n",
    "    "
   ]
  },
  {
   "cell_type": "code",
   "execution_count": 153,
   "metadata": {},
   "outputs": [
    {
     "name": "stdout",
     "output_type": "stream",
     "text": [
      "--- 5257.39177274704 seconds ---\n"
     ]
    }
   ],
   "source": [
    "## run the parallelized function\n",
    "start_time = time.time()\n",
    "k = 1\n",
    "# Step 1: Init multiprocessing.Pool()\n",
    "pool = mp.Pool(mp.cpu_count())\n",
    "\n",
    "bluestreets_movie_data_glasser=[]\n",
    "# Step 2: `pool.apply` the `perm_reinstatement()`\n",
    "bluestreets_movie_data_glasser= pool.map(roi_extract, range(num_subs))\n",
    "\n",
    "# Step 3: Don't forget to close\n",
    "pool.close() \n",
    "\n",
    "print(\"--- %s seconds ---\" % (time.time() - start_time))"
   ]
  },
  {
   "cell_type": "code",
   "execution_count": 154,
   "metadata": {},
   "outputs": [],
   "source": [
    "## extract hippocampal ROI data\n",
    "def roi_extract(sub):\n",
    "    bluestreets_movie_data = np.empty([num_hc_rois,num_TR])\n",
    "    fname = analysis_dir+'confound_corrected_data/fc_data/'+subjlist_full['subj_id'][sub]+'_'+subjlist_full[movie_list[k]+'_ses'][sub]+'_task-movieviewing_'+ subjlist_full[movie_list[k]+'_place'][sub]+'_space-T1w_desc-preproc_bold_denoised_GSR_filter.nii.gz'\n",
    "    epi_img_movie = nib.load(fname)\n",
    "    for roi in range(num_hc_rois):\n",
    "        roi_mask = nib.load('/Volumes/dml/ajbarnett/cartoon_recall_fmriprep_2020/hc_masks/'+subjlist_full['subj_id'][sub]+'/'+subjlist_full['subj_id'][sub]+hc_list[roi])\n",
    "        mask_movie = resample_to_img(roi_mask,epi_img_movie,interpolation='nearest')\n",
    "        epi_mask_img = apply_mask(epi_img_movie, mask_movie)\n",
    "        a,b = epi_mask_img.shape\n",
    "        bluestreets_movie_data[roi,:a] = np.mean(epi_mask_img.T,axis=0)\n",
    "    return bluestreets_movie_data\n",
    "    "
   ]
  },
  {
   "cell_type": "code",
   "execution_count": 156,
   "metadata": {},
   "outputs": [
    {
     "name": "stdout",
     "output_type": "stream",
     "text": [
      "--- 89.22564315795898 seconds ---\n"
     ]
    }
   ],
   "source": [
    "## run the parallelized function\n",
    "start_time = time.time()\n",
    "k = 1\n",
    "# Step 1: Init multiprocessing.Pool()\n",
    "pool = mp.Pool(mp.cpu_count())\n",
    "\n",
    "bluestreets_movie_data_hc=[]\n",
    "# Step 2: `pool.apply` the `perm_reinstatement()`\n",
    "bluestreets_movie_data_hc= pool.map(roi_extract, range(num_subs))\n",
    "\n",
    "# Step 3: Don't forget to close\n",
    "pool.close() \n",
    "\n",
    "print(\"--- %s seconds ---\" % (time.time() - start_time))"
   ]
  },
  {
   "cell_type": "code",
   "execution_count": 157,
   "metadata": {},
   "outputs": [],
   "source": [
    "##combine HC and glasser ROIs"
   ]
  },
  {
   "cell_type": "code",
   "execution_count": 158,
   "metadata": {},
   "outputs": [],
   "source": [
    "bluestreets_movie_fc_data = np.empty([num_subs,num_rois,num_TR])\n",
    "for i in range(num_subs): \n",
    "    bluestreets_movie_fc_data[i][0:358][:] = bluestreets_movie_data_glasser[i]\n",
    "\n",
    "for i in range(num_subs): \n",
    "    bluestreets_movie_fc_data[i][358:362][:] = bluestreets_movie_data_hc[i]"
   ]
  },
  {
   "cell_type": "code",
   "execution_count": 159,
   "metadata": {},
   "outputs": [],
   "source": [
    "bluestreets_movie_fc_data = bluestreets_movie_fc_data[:][:,:,0:804]"
   ]
  },
  {
   "cell_type": "code",
   "execution_count": 914,
   "metadata": {},
   "outputs": [],
   "source": [
    "i=1\n",
    "subj_bluestreets_movie_fc =[]\n",
    "\n",
    "temp = bluestreets_movie_fc_data[i]\n",
    "test = ma.corrcoef(ma.masked_invalid(temp))\n",
    "#subj_bluestreets_movie_fc.append(ma.corrcoef(ma.masked_invalid(temp)))"
   ]
  },
  {
   "cell_type": "code",
   "execution_count": 161,
   "metadata": {},
   "outputs": [],
   "source": [
    "##calculate fc\n",
    "subj_bluestreets_movie_fc =[]\n",
    "for i in range(num_subs):\n",
    "    temp = bluestreets_movie_fc_data[i]\n",
    "    \n",
    "    subj_bluestreets_movie_fc.append(np.corrcoef(temp))"
   ]
  },
  {
   "cell_type": "code",
   "execution_count": 213,
   "metadata": {},
   "outputs": [],
   "source": [
    "np.save(analysis_dir+'bluestreets_movie_data_extracted_full.npy',bluestreets_movie_fc_data)"
   ]
  },
  {
   "cell_type": "code",
   "execution_count": 214,
   "metadata": {},
   "outputs": [],
   "source": [
    "np.save(analysis_dir+'subj_bluestreets_movie_fc_full.npy',subj_bluestreets_movie_fc)"
   ]
  },
  {
   "cell_type": "code",
   "execution_count": 17,
   "metadata": {},
   "outputs": [],
   "source": [
    "bluestreets_movie_fc_data = np.load(analysis_dir+'bluestreets_movie_data_extracted_full.npy')"
   ]
  }
 ],
 "metadata": {
  "kernelspec": {
   "display_name": "Python 3",
   "language": "python",
   "name": "python3"
  },
  "language_info": {
   "codemirror_mode": {
    "name": "ipython",
    "version": 3
   },
   "file_extension": ".py",
   "mimetype": "text/x-python",
   "name": "python",
   "nbconvert_exporter": "python",
   "pygments_lexer": "ipython3",
   "version": "3.7.6"
  }
 },
 "nbformat": 4,
 "nbformat_minor": 2
}
